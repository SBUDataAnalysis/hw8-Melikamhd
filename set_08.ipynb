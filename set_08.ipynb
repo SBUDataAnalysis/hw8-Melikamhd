{
  "cells": [
    {
      "cell_type": "code",
      "execution_count": 1,
      "id": "c7e2e0d8",
      "metadata": {
        "id": "c7e2e0d8"
      },
      "outputs": [],
      "source": [
        "import numpy as np\n",
        "import matplotlib.pyplot as plt"
      ]
    },
    {
      "cell_type": "markdown",
      "id": "6f53949b",
      "metadata": {
        "id": "6f53949b"
      },
      "source": [
        "# Q1: Metropolis-Hastings\n",
        "\n",
        "For the spatial part of Hydrogen atom, we can guess a wave function $\\Psi_{T,\\alpha} \\propto e^{-\\alpha r}$. So, $E_{Local}$ is equal to\n",
        "\n",
        "$$ E_L = \\frac{\\hat{H}\\,\\Psi_{T,\\alpha}}{\\Psi_{T,\\alpha}} = -\\frac{1}{2}\\left(\\alpha^2 - 2\\frac{\\alpha}{r} \\right) - \\frac{1}{r}\\,. $$\n",
        "\n",
        "Now we need to calculate the best-fit value for $\\alpha$. Note that there are 3 more complications here compared to the question from the last problem set.\n",
        "\n",
        "1. $r$ here is not Cartesian but is the spatial part of spherical coordinates.\n",
        "\n",
        "2. $E_L$ at $\\alpha = 1$ becomes independent of $r$ (Spoiler: this is infact the correct answer).\n",
        "\n",
        "3. For $\\alpha \\ne 1$ there's a singularity at $r = 1$ in which the potential diverges."
      ]
    },
    {
      "cell_type": "markdown",
      "id": "6aedd08f",
      "metadata": {
        "id": "6aedd08f"
      },
      "source": [
        "## (a)\n",
        "\n",
        "Like before, write a function to preform a Metropolis-Hastings algorithm to find a distribution for $r$ at a defined $\\alpha$ this time using a non-symmetric $Q(x^\\prime; x)$ as discussed in the lecture.\n",
        "\n",
        "P.S. Use two different functions for $Q$ at your choise."
      ]
    },
    {
      "cell_type": "code",
      "execution_count": 20,
      "id": "06763320",
      "metadata": {
        "id": "06763320"
      },
      "outputs": [],
      "source": [
        "#metropolice\n",
        "def P(r, a = 0.5):\n",
        "    return np.exp(-a*r)\n",
        "\n",
        "def Q(r, r0 ,l= 1 ):\n",
        "    return np.exp(-l* (r-r0) **3)\n",
        "\n",
        "def Metropolis(N, P, Q, a):\n",
        "    m = []\n",
        "    for j in range(100):\n",
        "      x = np.random.uniform(0,1)\n",
        "      y = np.random.uniform(0,1)\n",
        "      z = np.random.uniform(0,1)\n",
        "      r = np.sqrt(x**2 + y**2 + z**2)\n",
        "\n",
        "      for i in range(N//100):\n",
        "          X = np.random.uniform(-1,1)\n",
        "          Y = np.random.uniform(-1,1)\n",
        "          Z = np.random.uniform(-1,1)\n",
        "          R = r +  np.sqrt(X**2 + Y**2 + Z**2)\n",
        "\n",
        "          w = (P(R, a) / (P(r, a)))\n",
        "\n",
        "          al = min(1, w)\n",
        "          s = np.random.rand()\n",
        "          if  s <= al:\n",
        "              m.append(R)\n",
        "          else:\n",
        "              m.append(r)\n",
        "    return m\n"
      ]
    },
    {
      "cell_type": "code",
      "source": [
        "n = 1000\n",
        "bins = 50\n",
        "r = np.linspace(0, 10, 100)\n",
        "m = Metropolis(n, P, Q , 0.7)"
      ],
      "metadata": {
        "id": "LJ-rUlcexV7f"
      },
      "id": "LJ-rUlcexV7f",
      "execution_count": 41,
      "outputs": []
    },
    {
      "cell_type": "code",
      "source": [
        "plt.hist(m, bins = bins,  density = True)\n",
        "plt.plot(r, P(r, 0.5))\n",
        "plt.legend()\n",
        "plt.show()"
      ],
      "metadata": {
        "colab": {
          "base_uri": "https://localhost:8080/",
          "height": 282
        },
        "id": "0OlxZrySxWMR",
        "outputId": "003b4b5a-cbf9-4183-cbda-2470b504478c"
      },
      "id": "0OlxZrySxWMR",
      "execution_count": 42,
      "outputs": [
        {
          "output_type": "stream",
          "name": "stderr",
          "text": [
            "No handles with labels found to put in legend.\n"
          ]
        },
        {
          "output_type": "display_data",
          "data": {
            "text/plain": [
              "<Figure size 432x288 with 1 Axes>"
            ],
            "image/png": "[encoded data removed]"
          },
          "metadata": {
            "needs_background": "light"
          }
        }
      ]
    },
    {
      "cell_type": "markdown",
      "id": "522d5a0a",
      "metadata": {
        "id": "522d5a0a"
      },
      "source": [
        "## (b)\n",
        "\n",
        "Plot histograms for $r$ with different sizes for each choise of $Q$ and compare them to each other and the analytical function. Which choise of $Q$ is better? Do you think there's a mathematical reason behind this?"
      ]
    },
    {
      "cell_type": "code",
      "execution_count": 3,
      "id": "cf128b3e",
      "metadata": {
        "id": "cf128b3e"
      },
      "outputs": [],
      "source": [
        "# Your code here"
      ]
    },
    {
      "cell_type": "markdown",
      "id": "44f3ab54",
      "metadata": {
        "id": "44f3ab54"
      },
      "source": [
        "## (c)\n",
        "\n",
        "As before, plot $\\langle E_L \\rangle$ and $\\sigma^2 = \\langle E_L^2 \\rangle - \\langle E_L \\rangle^2$ for different values of $\\alpha$ and show that indeed $\\alpha = 1$ is the best-fit value."
      ]
    },
    {
      "cell_type": "code",
      "execution_count": 4,
      "id": "a8a832d1",
      "metadata": {
        "id": "a8a832d1"
      },
      "outputs": [],
      "source": [
        "# Your code here"
      ]
    },
    {
      "cell_type": "markdown",
      "id": "76c17429",
      "metadata": {
        "id": "76c17429"
      },
      "source": [
        "# Q2: FFT (warm up)\n",
        "\n",
        "## (a)\n",
        "Using `'scipy.fft'`, calculate and the fourier modes of $x(t) = 2\\sin(t) + \\sin(10t)$. Plot the absolute values."
      ]
    },
    {
      "cell_type": "code",
      "execution_count": 43,
      "id": "b6f6c3e3",
      "metadata": {
        "id": "b6f6c3e3"
      },
      "outputs": [],
      "source": [
        "from scipy.fft import fft, fftshift, fftfreq"
      ]
    },
    {
      "cell_type": "code",
      "execution_count": 44,
      "id": "84a5ef9d",
      "metadata": {
        "id": "84a5ef9d"
      },
      "outputs": [],
      "source": [
        "n = 1000\n",
        "ti = 0    #s\n",
        "tf = 20   #s\n",
        "T = np.linspace(ti, tf, n)\n",
        "def x(T):\n",
        "    return (2*np.sin(T)) + (np.sin(10*T))"
      ]
    },
    {
      "cell_type": "code",
      "execution_count": 45,
      "id": "f57fbca8",
      "metadata": {
        "id": "f57fbca8",
        "outputId": "4c379447-af11-42ff-9873-5a1ecad90930",
        "colab": {
          "base_uri": "https://localhost:8080/",
          "height": 279
        }
      },
      "outputs": [
        {
          "output_type": "display_data",
          "data": {
            "text/plain": [
              "<Figure size 432x288 with 1 Axes>"
            ],
            "image/png": "[encoded data removed]"
          },
          "metadata": {
            "needs_background": "light"
          }
        }
      ],
      "source": [
        "plt.plot(T, x(T))\n",
        "plt.xlabel('T')\n",
        "plt.ylabel('x')\n",
        "plt.show()"
      ]
    },
    {
      "cell_type": "code",
      "execution_count": 46,
      "id": "31b287f9",
      "metadata": {
        "id": "31b287f9"
      },
      "outputs": [],
      "source": [
        "yf = fft(x(T))\n",
        "xf = fftfreq(n, d = T[1] - T[0])[ 0 : n//2 ]"
      ]
    },
    {
      "cell_type": "code",
      "source": [
        "plt.plot(xf , (2/n)*np.abs(yf[0 : n//2]), \".\")\n",
        "plt.xlim(0,3)\n",
        "plt.xlabel('f [Hz]')\n",
        "plt.ylabel('fft|x(T)|')\n",
        "plt.show()"
      ],
      "metadata": {
        "colab": {
          "base_uri": "https://localhost:8080/",
          "height": 279
        },
        "id": "GSYt7vGAzex8",
        "outputId": "515056fa-b132-4c43-8d4c-321308625114"
      },
      "id": "GSYt7vGAzex8",
      "execution_count": 47,
      "outputs": [
        {
          "output_type": "display_data",
          "data": {
            "text/plain": [
              "<Figure size 432x288 with 1 Axes>"
            ],
            "image/png": "[encoded data removed]"
          },
          "metadata": {
            "needs_background": "light"
          }
        }
      ]
    },
    {
      "cell_type": "markdown",
      "id": "05dec31c",
      "metadata": {
        "id": "05dec31c"
      },
      "source": [
        "What's the prominent frequency? Does it make sense? If not, what's wrong with the code?"
      ]
    },
    {
      "cell_type": "code",
      "execution_count": 48,
      "id": "a33fff66",
      "metadata": {
        "id": "a33fff66"
      },
      "outputs": [],
      "source": [
        "# Answer here"
      ]
    },
    {
      "cell_type": "markdown",
      "id": "567fd6a9",
      "metadata": {
        "id": "567fd6a9"
      },
      "source": [
        "## (b)\n",
        "\n",
        "Calculate and plot Fourier transform of sawtooth function."
      ]
    },
    {
      "cell_type": "code",
      "execution_count": 49,
      "id": "89a9320a",
      "metadata": {
        "id": "89a9320a"
      },
      "outputs": [],
      "source": [
        "from scipy.signal import sawtooth"
      ]
    },
    {
      "cell_type": "code",
      "execution_count": 50,
      "id": "880d6f3c",
      "metadata": {
        "id": "880d6f3c",
        "outputId": "018702b7-24da-4498-b7d2-9e3456d66740",
        "colab": {
          "base_uri": "https://localhost:8080/",
          "height": 279
        }
      },
      "outputs": [
        {
          "output_type": "display_data",
          "data": {
            "text/plain": [
              "<Figure size 432x288 with 1 Axes>"
            ],
            "image/png": "[encoded data removed]"
          },
          "metadata": {
            "needs_background": "light"
          }
        }
      ],
      "source": [
        "plt.plot(T, sawtooth(T))\n",
        "plt.xlabel('T')\n",
        "plt.ylabel('s')\n",
        "plt.show()"
      ]
    },
    {
      "cell_type": "code",
      "execution_count": 51,
      "id": "3378c2c3",
      "metadata": {
        "id": "3378c2c3"
      },
      "outputs": [],
      "source": [
        "yf = fft(sawtooth(T))\n",
        "xf = fftfreq(n, d = T[1] - T[0])[0 : n//2]"
      ]
    },
    {
      "cell_type": "code",
      "source": [
        "plt.plot(xf, (2/n)*np.abs(yf[ 0 :n//2]))\n",
        "plt.xlim(0, 10)\n",
        "plt.xlabel('f [Hz]')\n",
        "plt.ylabel('fft|s(T)|')\n",
        "plt.show()"
      ],
      "metadata": {
        "colab": {
          "base_uri": "https://localhost:8080/",
          "height": 279
        },
        "id": "SOmbO1Ia0le2",
        "outputId": "d9fa5970-fc9a-41b7-bb74-ae62c91fb1b2"
      },
      "id": "SOmbO1Ia0le2",
      "execution_count": 52,
      "outputs": [
        {
          "output_type": "display_data",
          "data": {
            "text/plain": [
              "<Figure size 432x288 with 1 Axes>"
            ],
            "image/png": "[encoded data removed]"
          },
          "metadata": {
            "needs_background": "light"
          }
        }
      ]
    },
    {
      "cell_type": "markdown",
      "id": "4fbb7db1",
      "metadata": {
        "id": "4fbb7db1"
      },
      "source": [
        "# Q3: Sunspot data"
      ]
    },
    {
      "cell_type": "markdown",
      "id": "be22bf6d",
      "metadata": {
        "id": "be22bf6d"
      },
      "source": [
        "The attached file `Sunspots.csv` contains monthly solar activity data over a 272 year period. First read the data in a pandas Dataframe and tell pandas to interpret the second column as `datetime`."
      ]
    },
    {
      "cell_type": "code",
      "execution_count": 53,
      "id": "42c142e4",
      "metadata": {
        "id": "42c142e4"
      },
      "outputs": [],
      "source": [
        "import pandas as pd"
      ]
    },
    {
      "cell_type": "code",
      "execution_count": 54,
      "id": "9c5b2072",
      "metadata": {
        "id": "9c5b2072",
        "outputId": "3ca8bf65-efbc-44a7-8740-d72c38401203",
        "colab": {
          "base_uri": "https://localhost:8080/",
          "height": 455
        }
      },
      "outputs": [
        {
          "output_type": "execute_result",
          "data": {
            "text/plain": [
              "            Date  Monthly\n",
              "Num                      \n",
              "0     1749-01-31     96.7\n",
              "1     1749-02-28    104.3\n",
              "2     1749-03-31    116.7\n",
              "3     1749-04-30     92.8\n",
              "4     1749-05-31    141.7\n",
              "...          ...      ...\n",
              "3260  2020-09-30      0.6\n",
              "3261  2020-10-31     14.4\n",
              "3262  2020-11-30     34.0\n",
              "3263  2020-12-31     21.8\n",
              "3264  2021-01-31     10.4\n",
              "\n",
              "[3265 rows x 2 columns]"
            ],
            "text/html": [
              "\n",
              "  <div id=\"df-94272fe5-796c-4173-8d89-9eb91ff64f2e\">\n",
              "    <div class=\"colab-df-container\">\n",
              "      <div>\n",
              "<style scoped>\n",
              "    .dataframe tbody tr th:only-of-type {\n",
              "        vertical-align: middle;\n",
              "    }\n",
              "\n",
              "    .dataframe tbody tr th {\n",
              "        vertical-align: top;\n",
              "    }\n",
              "\n",
              "    .dataframe thead th {\n",
              "        text-align: right;\n",
              "    }\n",
              "</style>\n",
              "<table border=\"1\" class=\"dataframe\">\n",
              "  <thead>\n",
              "    <tr style=\"text-align: right;\">\n",
              "      <th></th>\n",
              "      <th>Date</th>\n",
              "      <th>Monthly</th>\n",
              "    </tr>\n",
              "    <tr>\n",
              "      <th>Num</th>\n",
              "      <th></th>\n",
              "      <th></th>\n",
              "    </tr>\n",
              "  </thead>\n",
              "  <tbody>\n",
              "    <tr>\n",
              "      <th>0</th>\n",
              "      <td>1749-01-31</td>\n",
              "      <td>96.7</td>\n",
              "    </tr>\n",
              "    <tr>\n",
              "      <th>1</th>\n",
              "      <td>1749-02-28</td>\n",
              "      <td>104.3</td>\n",
              "    </tr>\n",
              "    <tr>\n",
              "      <th>2</th>\n",
              "      <td>1749-03-31</td>\n",
              "      <td>116.7</td>\n",
              "    </tr>\n",
              "    <tr>\n",
              "      <th>3</th>\n",
              "      <td>1749-04-30</td>\n",
              "      <td>92.8</td>\n",
              "    </tr>\n",
              "    <tr>\n",
              "      <th>4</th>\n",
              "      <td>1749-05-31</td>\n",
              "      <td>141.7</td>\n",
              "    </tr>\n",
              "    <tr>\n",
              "      <th>...</th>\n",
              "      <td>...</td>\n",
              "      <td>...</td>\n",
              "    </tr>\n",
              "    <tr>\n",
              "      <th>3260</th>\n",
              "      <td>2020-09-30</td>\n",
              "      <td>0.6</td>\n",
              "    </tr>\n",
              "    <tr>\n",
              "      <th>3261</th>\n",
              "      <td>2020-10-31</td>\n",
              "      <td>14.4</td>\n",
              "    </tr>\n",
              "    <tr>\n",
              "      <th>3262</th>\n",
              "      <td>2020-11-30</td>\n",
              "      <td>34.0</td>\n",
              "    </tr>\n",
              "    <tr>\n",
              "      <th>3263</th>\n",
              "      <td>2020-12-31</td>\n",
              "      <td>21.8</td>\n",
              "    </tr>\n",
              "    <tr>\n",
              "      <th>3264</th>\n",
              "      <td>2021-01-31</td>\n",
              "      <td>10.4</td>\n",
              "    </tr>\n",
              "  </tbody>\n",
              "</table>\n",
              "<p>3265 rows × 2 columns</p>\n",
              "</div>\n",
              "      <button class=\"colab-df-convert\" onclick=\"convertToInteractive('df-94272fe5-796c-4173-8d89-9eb91ff64f2e')\"\n",
              "              title=\"Convert this dataframe to an interactive table.\"\n",
              "              style=\"display:none;\">\n",
              "        \n",
              "  <svg xmlns=\"http://www.w3.org/2000/svg\" height=\"24px\"viewBox=\"0 0 24 24\"\n",
              "       width=\"24px\">\n",
              "    <path d=\"M0 0h24v24H0V0z\" fill=\"none\"/>\n",
              "    <path d=\"M18.56 5.44l.94 2.06.94-2.06 2.06-.94-2.06-.94-.94-2.06-.94 2.06-2.06.94zm-11 1L8.5 8.5l.94-2.06 2.06-.94-2.06-.94L8.5 2.5l-.94 2.06-2.06.94zm10 10l.94 2.06.94-2.06 2.06-.94-2.06-.94-.94-2.06-.94 2.06-2.06.94z\"/><path d=\"M17.41 7.96l-1.37-1.37c-.4-.4-.92-.59-1.43-.59-.52 0-1.04.2-1.43.59L10.3 9.45l-7.72 7.72c-.78.78-.78 2.05 0 2.83L4 21.41c.39.39.9.59 1.41.59.51 0 1.02-.2 1.41-.59l7.78-7.78 2.81-2.81c.8-.78.8-2.07 0-2.86zM5.41 20L4 18.59l7.72-7.72 1.47 1.35L5.41 20z\"/>\n",
              "  </svg>\n",
              "      </button>\n",
              "      \n",
              "  <style>\n",
              "    .colab-df-container {\n",
              "      display:flex;\n",
              "      flex-wrap:wrap;\n",
              "      gap: 12px;\n",
              "    }\n",
              "\n",
              "    .colab-df-convert {\n",
              "      background-color: #E8F0FE;\n",
              "      border: none;\n",
              "      border-radius: 50%;\n",
              "      cursor: pointer;\n",
              "      display: none;\n",
              "      fill: #1967D2;\n",
              "      height: 32px;\n",
              "      padding: 0 0 0 0;\n",
              "      width: 32px;\n",
              "    }\n",
              "\n",
              "    .colab-df-convert:hover {\n",
              "      background-color: #E2EBFA;\n",
              "      box-shadow: 0px 1px 2px rgba(60, 64, 67, 0.3), 0px 1px 3px 1px rgba(60, 64, 67, 0.15);\n",
              "      fill: #174EA6;\n",
              "    }\n",
              "\n",
              "    [theme=dark] .colab-df-convert {\n",
              "      background-color: #3B4455;\n",
              "      fill: #D2E3FC;\n",
              "    }\n",
              "\n",
              "    [theme=dark] .colab-df-convert:hover {\n",
              "      background-color: #434B5C;\n",
              "      box-shadow: 0px 1px 3px 1px rgba(0, 0, 0, 0.15);\n",
              "      filter: drop-shadow(0px 1px 2px rgba(0, 0, 0, 0.3));\n",
              "      fill: #FFFFFF;\n",
              "    }\n",
              "  </style>\n",
              "\n",
              "      <script>\n",
              "        const buttonEl =\n",
              "          document.querySelector('#df-94272fe5-796c-4173-8d89-9eb91ff64f2e button.colab-df-convert');\n",
              "        buttonEl.style.display =\n",
              "          google.colab.kernel.accessAllowed ? 'block' : 'none';\n",
              "\n",
              "        async function convertToInteractive(key) {\n",
              "          const element = document.querySelector('#df-94272fe5-796c-4173-8d89-9eb91ff64f2e');\n",
              "          const dataTable =\n",
              "            await google.colab.kernel.invokeFunction('convertToInteractive',\n",
              "                                                     [key], {});\n",
              "          if (!dataTable) return;\n",
              "\n",
              "          const docLinkHtml = 'Like what you see? Visit the ' +\n",
              "            '<a target=\"_blank\" href=https://colab.research.google.com/notebooks/data_table.ipynb>data table notebook</a>'\n",
              "            + ' to learn more about interactive tables.';\n",
              "          element.innerHTML = '';\n",
              "          dataTable['output_type'] = 'display_data';\n",
              "          await google.colab.output.renderOutput(dataTable, element);\n",
              "          const docLink = document.createElement('div');\n",
              "          docLink.innerHTML = docLinkHtml;\n",
              "          element.appendChild(docLink);\n",
              "        }\n",
              "      </script>\n",
              "    </div>\n",
              "  </div>\n",
              "  "
            ]
          },
          "metadata": {},
          "execution_count": 54
        }
      ],
      "source": [
        "Sunspot = pd.read_csv('/content/Sunspots.csv', index_col=0)\n",
        "Sunspot"
      ]
    },
    {
      "cell_type": "code",
      "execution_count": 55,
      "id": "c3a63a41",
      "metadata": {
        "id": "c3a63a41",
        "outputId": "e604f16a-dcbd-4f7b-f6c1-9aeb692e1157",
        "colab": {
          "base_uri": "https://localhost:8080/",
          "height": 279
        }
      },
      "outputs": [
        {
          "output_type": "display_data",
          "data": {
            "text/plain": [
              "<Figure size 432x288 with 1 Axes>"
            ],
            "image/png": "[encoded data removed]"
          },
          "metadata": {
            "needs_background": "light"
          }
        }
      ],
      "source": [
        "date = pd.to_datetime(Sunspot.Date)\n",
        "\n",
        "plt.plot(date, Sunspot['Monthly'], c = 'black')\n",
        "plt.xlabel('Date')\n",
        "plt.ylabel('Intensity')\n",
        "plt.show()"
      ]
    },
    {
      "cell_type": "markdown",
      "id": "b98fe304",
      "metadata": {
        "id": "b98fe304"
      },
      "source": [
        "## (a)\n",
        "\n",
        "Do an appropriate Fourier analysis to determine the main cylce of solar activity. What's the period?"
      ]
    },
    {
      "cell_type": "code",
      "source": [
        "x = list(range(len(Sunspot.Date)))\n",
        "y = Sunspot.Monthly"
      ],
      "metadata": {
        "id": "sCIa2XWa7k5Y"
      },
      "id": "sCIa2XWa7k5Y",
      "execution_count": 56,
      "outputs": []
    },
    {
      "cell_type": "code",
      "source": [
        "\n",
        "#fast fourier transform and take absolute values\n",
        "f = abs(np.fft.fft(y))\n",
        "\n",
        "#get the list of frequencies\n",
        "num = np.size(x)\n",
        "freq = [i / num for i in list(range(num))]\n",
        "\n",
        "#get the list of spectrums\n",
        "spectrum = f.real*f.real + f.imag*f.imag\n",
        "nspectrum = spectrum/spectrum[0]\n",
        "\n",
        "#plot nspectrum per frequency\n",
        "plt.semilogy(freq,nspectrum, c = 'black')"
      ],
      "metadata": {
        "colab": {
          "base_uri": "https://localhost:8080/",
          "height": 282
        },
        "id": "E9HAGe4ECdwF",
        "outputId": "ab7b6c61-4e93-41ec-a04d-799b89126125"
      },
      "id": "E9HAGe4ECdwF",
      "execution_count": 57,
      "outputs": [
        {
          "output_type": "execute_result",
          "data": {
            "text/plain": [
              "[<matplotlib.lines.Line2D at 0x7f004c7b0850>]"
            ]
          },
          "metadata": {},
          "execution_count": 57
        },
        {
          "output_type": "display_data",
          "data": {
            "text/plain": [
              "<Figure size 432x288 with 1 Axes>"
            ],
            "image/png": "[encoded data removed]"
          },
          "metadata": {
            "needs_background": "light"
          }
        }
      ]
    },
    {
      "cell_type": "code",
      "source": [
        "#period\n",
        "results = pd.DataFrame({'freq': freq, 'nspectrum': nspectrum})\n",
        "results['period'] = results['freq'] / (1/52)\n",
        "plt.semilogy(results['period'], results['nspectrum'], c = 'black')"
      ],
      "metadata": {
        "colab": {
          "base_uri": "https://localhost:8080/",
          "height": 282
        },
        "id": "EJ8O_bOxDR_r",
        "outputId": "53e24365-9f0c-41ab-edda-ba69f8ee3da8"
      },
      "id": "EJ8O_bOxDR_r",
      "execution_count": 58,
      "outputs": [
        {
          "output_type": "execute_result",
          "data": {
            "text/plain": [
              "[<matplotlib.lines.Line2D at 0x7f0039db1390>]"
            ]
          },
          "metadata": {},
          "execution_count": 58
        },
        {
          "output_type": "display_data",
          "data": {
            "text/plain": [
              "<Figure size 432x288 with 1 Axes>"
            ],
            "image/png": "[encoded data removed]"
          },
          "metadata": {
            "needs_background": "light"
          }
        }
      ]
    },
    {
      "cell_type": "code",
      "execution_count": 59,
      "id": "157ca964",
      "metadata": {
        "id": "157ca964",
        "colab": {
          "base_uri": "https://localhost:8080/"
        },
        "outputId": "dedda013-fdfd-4fa6-c621-c071fa942155"
      },
      "outputs": [
        {
          "output_type": "execute_result",
          "data": {
            "text/plain": [
              "0               inf\n",
              "1       3265.000000\n",
              "2       1632.500000\n",
              "3       1088.333333\n",
              "4        816.250000\n",
              "           ...     \n",
              "3260       1.001534\n",
              "3261       1.001227\n",
              "3262       1.000920\n",
              "3263       1.000613\n",
              "3264       1.000306\n",
              "Name: freq, Length: 3265, dtype: float64"
            ]
          },
          "metadata": {},
          "execution_count": 59
        }
      ],
      "source": [
        "period = 1/results['freq'] \n",
        "period"
      ]
    },
    {
      "cell_type": "code",
      "source": [
        "#period\n",
        "yf = fft(Sunspot.Monthly.to_numpy())\n",
        "xf = fftfreq(3265 , d= 30)[0:n//2]\n",
        "plt.plot(xf, (2/n)*np.abs(yf[0:n//2]),  c = 'black')\n",
        "plt.show()"
      ],
      "metadata": {
        "colab": {
          "base_uri": "https://localhost:8080/",
          "height": 265
        },
        "id": "uAMlCBO1HPAq",
        "outputId": "366590a6-2de1-462c-8094-16a1f7a56bd5"
      },
      "id": "uAMlCBO1HPAq",
      "execution_count": 60,
      "outputs": [
        {
          "output_type": "display_data",
          "data": {
            "text/plain": [
              "<Figure size 432x288 with 1 Axes>"
            ],
            "image/png": "[encoded data removed]"
          },
          "metadata": {
            "needs_background": "light"
          }
        }
      ]
    },
    {
      "cell_type": "markdown",
      "id": "f86b4688",
      "metadata": {
        "id": "f86b4688"
      },
      "source": [
        "## (b)\n",
        "First do an inverse Fourier analysis to confirm that you get back the same data."
      ]
    },
    {
      "cell_type": "code",
      "execution_count": 61,
      "id": "8337e039",
      "metadata": {
        "id": "8337e039"
      },
      "outputs": [],
      "source": [
        "from scipy.fft import ifft"
      ]
    },
    {
      "cell_type": "code",
      "source": [
        "Sunspot.Date"
      ],
      "metadata": {
        "colab": {
          "base_uri": "https://localhost:8080/"
        },
        "id": "qOCSh9HwPjDH",
        "outputId": "5fa44c72-1258-4f25-8dd5-ea096ac2ef6c"
      },
      "id": "qOCSh9HwPjDH",
      "execution_count": 62,
      "outputs": [
        {
          "output_type": "execute_result",
          "data": {
            "text/plain": [
              "Num\n",
              "0       1749-01-31\n",
              "1       1749-02-28\n",
              "2       1749-03-31\n",
              "3       1749-04-30\n",
              "4       1749-05-31\n",
              "           ...    \n",
              "3260    2020-09-30\n",
              "3261    2020-10-31\n",
              "3262    2020-11-30\n",
              "3263    2020-12-31\n",
              "3264    2021-01-31\n",
              "Name: Date, Length: 3265, dtype: object"
            ]
          },
          "metadata": {},
          "execution_count": 62
        }
      ]
    },
    {
      "cell_type": "code",
      "source": [
        "Sunspot.Monthly"
      ],
      "metadata": {
        "colab": {
          "base_uri": "https://localhost:8080/"
        },
        "id": "MNvdDifrPmQz",
        "outputId": "cf3d977a-b737-4759-d47f-e1de7062dad1"
      },
      "id": "MNvdDifrPmQz",
      "execution_count": 63,
      "outputs": [
        {
          "output_type": "execute_result",
          "data": {
            "text/plain": [
              "Num\n",
              "0        96.7\n",
              "1       104.3\n",
              "2       116.7\n",
              "3        92.8\n",
              "4       141.7\n",
              "        ...  \n",
              "3260      0.6\n",
              "3261     14.4\n",
              "3262     34.0\n",
              "3263     21.8\n",
              "3264     10.4\n",
              "Name: Monthly, Length: 3265, dtype: float64"
            ]
          },
          "metadata": {},
          "execution_count": 63
        }
      ]
    },
    {
      "cell_type": "code",
      "source": [
        "fft(Sunspot.Monthly.to_numpy())"
      ],
      "metadata": {
        "colab": {
          "base_uri": "https://localhost:8080/"
        },
        "id": "83Z_9vf-Qsq7",
        "outputId": "9a542912-6580-494c-b350-d78e5e4d7898"
      },
      "id": "83Z_9vf-Qsq7",
      "execution_count": 64,
      "outputs": [
        {
          "output_type": "execute_result",
          "data": {
            "text/plain": [
              "array([267007.7           -0.j        ,   7532.68481429+15868.49731631j,\n",
              "        -9485.36499832+16054.06182767j, ...,\n",
              "        -5146.14368204+38248.48932729j,  -9485.36499832-16054.06182767j,\n",
              "         7532.68481429-15868.49731631j])"
            ]
          },
          "metadata": {},
          "execution_count": 64
        }
      ]
    },
    {
      "cell_type": "code",
      "source": [
        "plt.plot(Sunspot.Date, Sunspot.Monthly, c = 'black')\n",
        "plt.plot(Sunspot.Date, abs(ifft(fft(Sunspot.Monthly.to_numpy()))), c = 'black')\n",
        "plt.show()"
      ],
      "metadata": {
        "id": "15-MusXXZfKJ",
        "colab": {
          "base_uri": "https://localhost:8080/",
          "height": 265
        },
        "outputId": "c217f395-2d27-4bf1-914f-f58640d45242"
      },
      "id": "15-MusXXZfKJ",
      "execution_count": 65,
      "outputs": [
        {
          "output_type": "display_data",
          "data": {
            "text/plain": [
              "<Figure size 432x288 with 1 Axes>"
            ],
            "image/png": "[encoded data removed]"
          },
          "metadata": {
            "needs_background": "light"
          }
        }
      ]
    },
    {
      "cell_type": "code",
      "source": [
        "#as you see we have same results."
      ],
      "metadata": {
        "id": "0R2DKaVjPz9N"
      },
      "id": "0R2DKaVjPz9N",
      "execution_count": 67,
      "outputs": []
    },
    {
      "cell_type": "markdown",
      "id": "a58f33f8",
      "metadata": {
        "id": "a58f33f8"
      },
      "source": [
        "## (c)\n",
        "\n",
        "Remover the first ten biggest values of Fourier transformed series, do an inverse transform once more and plot the results."
      ]
    },
    {
      "cell_type": "markdown",
      "id": "c82dd951",
      "metadata": {
        "id": "c82dd951"
      },
      "source": [
        "Why does the plot look different? And what's the difference?"
      ]
    },
    {
      "cell_type": "code",
      "execution_count": 68,
      "id": "aa3d2a38",
      "metadata": {
        "id": "aa3d2a38"
      },
      "outputs": [],
      "source": [
        "i = abs(yf)\n",
        "i.sort()\n",
        "i[-10:] = 0"
      ]
    },
    {
      "cell_type": "code",
      "source": [
        "j = ifft(i)"
      ],
      "metadata": {
        "id": "EBnKM8Xa7ww8"
      },
      "id": "EBnKM8Xa7ww8",
      "execution_count": 69,
      "outputs": []
    },
    {
      "cell_type": "code",
      "source": [
        "plt.plot(Sunspot.Date, Sunspot.Monthly)\n",
        "plt.plot(Sunspot.Date, abs(j))\n",
        "plt.show()"
      ],
      "metadata": {
        "colab": {
          "base_uri": "https://localhost:8080/",
          "height": 265
        },
        "id": "BZCjdFTp7w96",
        "outputId": "b389c379-bfaf-4d20-a99b-f93cc6b9d72e"
      },
      "id": "BZCjdFTp7w96",
      "execution_count": 70,
      "outputs": [
        {
          "output_type": "display_data",
          "data": {
            "text/plain": [
              "<Figure size 432x288 with 1 Axes>"
            ],
            "image/png": "[encoded data removed]"
          },
          "metadata": {
            "needs_background": "light"
          }
        }
      ]
    },
    {
      "cell_type": "code",
      "source": [
        "#the first ten biggest values are the main values that we have! if we remove them its like we dont have any values so we see as a line!"
      ],
      "metadata": {
        "id": "h0bVVAV6ICQM"
      },
      "id": "h0bVVAV6ICQM",
      "execution_count": 71,
      "outputs": []
    },
    {
      "cell_type": "markdown",
      "id": "dabdc648",
      "metadata": {
        "id": "dabdc648"
      },
      "source": [
        "# Q4: Correlation function and power spectrum"
      ]
    },
    {
      "cell_type": "markdown",
      "id": "3f1c72a3",
      "metadata": {
        "id": "3f1c72a3"
      },
      "source": [
        "Remember from last homework that we calculated autocorrelation function for a data that we made?\n",
        "\n",
        "Load the data saved as `2pcf.txt`, calculate the correlation function once more and then plot the power spectrum using that data."
      ]
    },
    {
      "cell_type": "code",
      "source": [
        "from scipy.fftpack import rfft, irfft, rfftfreq, ifftshift"
      ],
      "metadata": {
        "id": "sRWUOUKRIZM3"
      },
      "id": "sRWUOUKRIZM3",
      "execution_count": 72,
      "outputs": []
    },
    {
      "cell_type": "code",
      "execution_count": 73,
      "id": "8ec4bc40",
      "metadata": {
        "id": "8ec4bc40",
        "outputId": "49dc1c40-eb80-4327-ae28-7a84ac94a0c4",
        "colab": {
          "base_uri": "https://localhost:8080/",
          "height": 424
        }
      },
      "outputs": [
        {
          "output_type": "execute_result",
          "data": {
            "text/plain": [
              "            0\n",
              "0      0.0000\n",
              "1     -0.5803\n",
              "2     -0.9645\n",
              "3     -0.7912\n",
              "4     -0.6154\n",
              "...       ...\n",
              "99995  1.8084\n",
              "99996  1.8084\n",
              "99997  2.2739\n",
              "99998  1.4093\n",
              "99999  1.4093\n",
              "\n",
              "[100000 rows x 1 columns]"
            ],
            "text/html": [
              "\n",
              "  <div id=\"df-889d1da4-96d8-4d79-9d1c-383b74198357\">\n",
              "    <div class=\"colab-df-container\">\n",
              "      <div>\n",
              "<style scoped>\n",
              "    .dataframe tbody tr th:only-of-type {\n",
              "        vertical-align: middle;\n",
              "    }\n",
              "\n",
              "    .dataframe tbody tr th {\n",
              "        vertical-align: top;\n",
              "    }\n",
              "\n",
              "    .dataframe thead th {\n",
              "        text-align: right;\n",
              "    }\n",
              "</style>\n",
              "<table border=\"1\" class=\"dataframe\">\n",
              "  <thead>\n",
              "    <tr style=\"text-align: right;\">\n",
              "      <th></th>\n",
              "      <th>0</th>\n",
              "    </tr>\n",
              "  </thead>\n",
              "  <tbody>\n",
              "    <tr>\n",
              "      <th>0</th>\n",
              "      <td>0.0000</td>\n",
              "    </tr>\n",
              "    <tr>\n",
              "      <th>1</th>\n",
              "      <td>-0.5803</td>\n",
              "    </tr>\n",
              "    <tr>\n",
              "      <th>2</th>\n",
              "      <td>-0.9645</td>\n",
              "    </tr>\n",
              "    <tr>\n",
              "      <th>3</th>\n",
              "      <td>-0.7912</td>\n",
              "    </tr>\n",
              "    <tr>\n",
              "      <th>4</th>\n",
              "      <td>-0.6154</td>\n",
              "    </tr>\n",
              "    <tr>\n",
              "      <th>...</th>\n",
              "      <td>...</td>\n",
              "    </tr>\n",
              "    <tr>\n",
              "      <th>99995</th>\n",
              "      <td>1.8084</td>\n",
              "    </tr>\n",
              "    <tr>\n",
              "      <th>99996</th>\n",
              "      <td>1.8084</td>\n",
              "    </tr>\n",
              "    <tr>\n",
              "      <th>99997</th>\n",
              "      <td>2.2739</td>\n",
              "    </tr>\n",
              "    <tr>\n",
              "      <th>99998</th>\n",
              "      <td>1.4093</td>\n",
              "    </tr>\n",
              "    <tr>\n",
              "      <th>99999</th>\n",
              "      <td>1.4093</td>\n",
              "    </tr>\n",
              "  </tbody>\n",
              "</table>\n",
              "<p>100000 rows × 1 columns</p>\n",
              "</div>\n",
              "      <button class=\"colab-df-convert\" onclick=\"convertToInteractive('df-889d1da4-96d8-4d79-9d1c-383b74198357')\"\n",
              "              title=\"Convert this dataframe to an interactive table.\"\n",
              "              style=\"display:none;\">\n",
              "        \n",
              "  <svg xmlns=\"http://www.w3.org/2000/svg\" height=\"24px\"viewBox=\"0 0 24 24\"\n",
              "       width=\"24px\">\n",
              "    <path d=\"M0 0h24v24H0V0z\" fill=\"none\"/>\n",
              "    <path d=\"M18.56 5.44l.94 2.06.94-2.06 2.06-.94-2.06-.94-.94-2.06-.94 2.06-2.06.94zm-11 1L8.5 8.5l.94-2.06 2.06-.94-2.06-.94L8.5 2.5l-.94 2.06-2.06.94zm10 10l.94 2.06.94-2.06 2.06-.94-2.06-.94-.94-2.06-.94 2.06-2.06.94z\"/><path d=\"M17.41 7.96l-1.37-1.37c-.4-.4-.92-.59-1.43-.59-.52 0-1.04.2-1.43.59L10.3 9.45l-7.72 7.72c-.78.78-.78 2.05 0 2.83L4 21.41c.39.39.9.59 1.41.59.51 0 1.02-.2 1.41-.59l7.78-7.78 2.81-2.81c.8-.78.8-2.07 0-2.86zM5.41 20L4 18.59l7.72-7.72 1.47 1.35L5.41 20z\"/>\n",
              "  </svg>\n",
              "      </button>\n",
              "      \n",
              "  <style>\n",
              "    .colab-df-container {\n",
              "      display:flex;\n",
              "      flex-wrap:wrap;\n",
              "      gap: 12px;\n",
              "    }\n",
              "\n",
              "    .colab-df-convert {\n",
              "      background-color: #E8F0FE;\n",
              "      border: none;\n",
              "      border-radius: 50%;\n",
              "      cursor: pointer;\n",
              "      display: none;\n",
              "      fill: #1967D2;\n",
              "      height: 32px;\n",
              "      padding: 0 0 0 0;\n",
              "      width: 32px;\n",
              "    }\n",
              "\n",
              "    .colab-df-convert:hover {\n",
              "      background-color: #E2EBFA;\n",
              "      box-shadow: 0px 1px 2px rgba(60, 64, 67, 0.3), 0px 1px 3px 1px rgba(60, 64, 67, 0.15);\n",
              "      fill: #174EA6;\n",
              "    }\n",
              "\n",
              "    [theme=dark] .colab-df-convert {\n",
              "      background-color: #3B4455;\n",
              "      fill: #D2E3FC;\n",
              "    }\n",
              "\n",
              "    [theme=dark] .colab-df-convert:hover {\n",
              "      background-color: #434B5C;\n",
              "      box-shadow: 0px 1px 3px 1px rgba(0, 0, 0, 0.15);\n",
              "      filter: drop-shadow(0px 1px 2px rgba(0, 0, 0, 0.3));\n",
              "      fill: #FFFFFF;\n",
              "    }\n",
              "  </style>\n",
              "\n",
              "      <script>\n",
              "        const buttonEl =\n",
              "          document.querySelector('#df-889d1da4-96d8-4d79-9d1c-383b74198357 button.colab-df-convert');\n",
              "        buttonEl.style.display =\n",
              "          google.colab.kernel.accessAllowed ? 'block' : 'none';\n",
              "\n",
              "        async function convertToInteractive(key) {\n",
              "          const element = document.querySelector('#df-889d1da4-96d8-4d79-9d1c-383b74198357');\n",
              "          const dataTable =\n",
              "            await google.colab.kernel.invokeFunction('convertToInteractive',\n",
              "                                                     [key], {});\n",
              "          if (!dataTable) return;\n",
              "\n",
              "          const docLinkHtml = 'Like what you see? Visit the ' +\n",
              "            '<a target=\"_blank\" href=https://colab.research.google.com/notebooks/data_table.ipynb>data table notebook</a>'\n",
              "            + ' to learn more about interactive tables.';\n",
              "          element.innerHTML = '';\n",
              "          dataTable['output_type'] = 'display_data';\n",
              "          await google.colab.output.renderOutput(dataTable, element);\n",
              "          const docLink = document.createElement('div');\n",
              "          docLink.innerHTML = docLinkHtml;\n",
              "          element.appendChild(docLink);\n",
              "        }\n",
              "      </script>\n",
              "    </div>\n",
              "  </div>\n",
              "  "
            ]
          },
          "metadata": {},
          "execution_count": 73
        }
      ],
      "source": [
        "data = pd.read_csv('/content/2pcf.txt',header= None)\n",
        "data"
      ]
    },
    {
      "cell_type": "code",
      "source": [
        "data[0]"
      ],
      "metadata": {
        "colab": {
          "base_uri": "https://localhost:8080/"
        },
        "id": "i1rkZuItGij4",
        "outputId": "caf08871-ba62-47ee-a70d-16ea2b5bd0a1"
      },
      "id": "i1rkZuItGij4",
      "execution_count": 74,
      "outputs": [
        {
          "output_type": "execute_result",
          "data": {
            "text/plain": [
              "0        0.0000\n",
              "1       -0.5803\n",
              "2       -0.9645\n",
              "3       -0.7912\n",
              "4       -0.6154\n",
              "          ...  \n",
              "99995    1.8084\n",
              "99996    1.8084\n",
              "99997    2.2739\n",
              "99998    1.4093\n",
              "99999    1.4093\n",
              "Name: 0, Length: 100000, dtype: float64"
            ]
          },
          "metadata": {},
          "execution_count": 74
        }
      ]
    },
    {
      "cell_type": "code",
      "source": [
        "plt.hist(data[0], bins = 100, linewidth = 0)\n",
        "plt.show()"
      ],
      "metadata": {
        "id": "Gi7P2Ex8Lhi5",
        "colab": {
          "base_uri": "https://localhost:8080/",
          "height": 265
        },
        "outputId": "016efd6d-6dda-4082-ad33-af964dab0bbf"
      },
      "id": "Gi7P2Ex8Lhi5",
      "execution_count": 75,
      "outputs": [
        {
          "output_type": "display_data",
          "data": {
            "text/plain": [
              "<Figure size 432x288 with 1 Axes>"
            ],
            "image/png": "[encoded data removed]"
          },
          "metadata": {
            "needs_background": "light"
          }
        }
      ]
    },
    {
      "cell_type": "code",
      "source": [
        "from statsmodels.graphics import tsaplots\n",
        "tsaplots.plot_acf(data, lags=100, use_vlines= False)\n",
        "#nemidunam chera 2 bar plot mikone!"
      ],
      "metadata": {
        "colab": {
          "base_uri": "https://localhost:8080/",
          "height": 600
        },
        "id": "ODCa-c3eNZD7",
        "outputId": "24c56a1b-1ba8-422d-fad4-dc6bce869246"
      },
      "id": "ODCa-c3eNZD7",
      "execution_count": 76,
      "outputs": [
        {
          "output_type": "stream",
          "name": "stderr",
          "text": [
            "/usr/local/lib/python3.7/dist-packages/statsmodels/tools/_testing.py:19: FutureWarning: pandas.util.testing is deprecated. Use the functions in the public API at pandas.testing instead.\n",
            "  import pandas.util.testing as tm\n"
          ]
        },
        {
          "output_type": "execute_result",
          "data": {
            "text/plain": [
              "<Figure size 432x288 with 1 Axes>"
            ],
            "image/png": "[encoded data removed]"
          },
          "metadata": {},
          "execution_count": 76
        },
        {
          "output_type": "display_data",
          "data": {
            "text/plain": [
              "<Figure size 432x288 with 1 Axes>"
            ],
            "image/png": "[encoded data removed]"
          },
          "metadata": {
            "needs_background": "light"
          }
        }
      ]
    },
    {
      "cell_type": "code",
      "source": [
        "#autocorrelation using fourier\n",
        "def autocorrelation(x):\n",
        "    xp = ifftshift((x - np.average(x))/np.std(x))\n",
        "    n, = xp.shape\n",
        "    xp = np.r_[xp[:n//2], np.zeros_like(xp), xp[n//2:]]\n",
        "    f = fft(xp)\n",
        "    p = np.absolute(f)**2\n",
        "    pi = ifft(p)\n",
        "    return np.real(pi)[:n//2]/(np.arange(n//2)[::-1]+n//2)\n",
        "\n",
        "u = autocorrelation(data[0].to_numpy())\n",
        "plt.plot(x[:100], u[:100], '.')\n",
        "plt.show()"
      ],
      "metadata": {
        "colab": {
          "base_uri": "https://localhost:8080/",
          "height": 265
        },
        "id": "PRLsKbP0AykY",
        "outputId": "599f45aa-15b3-45b6-c6c4-35f68aabdfc6"
      },
      "id": "PRLsKbP0AykY",
      "execution_count": 77,
      "outputs": [
        {
          "output_type": "display_data",
          "data": {
            "text/plain": [
              "<Figure size 432x288 with 1 Axes>"
            ],
            "image/png": "[encoded data removed]"
          },
          "metadata": {
            "needs_background": "light"
          }
        }
      ]
    },
    {
      "cell_type": "code",
      "source": [
        "#result is same as last result that we saw."
      ],
      "metadata": {
        "id": "y9yp3sebA7cP"
      },
      "id": "y9yp3sebA7cP",
      "execution_count": 78,
      "outputs": []
    },
    {
      "cell_type": "code",
      "source": [
        "#power spectrum\n",
        "power = fft(j)\n",
        "f = fftfreq(j.size)\n",
        "f = fftshift(f)\n",
        "power_  = fftshift(power)"
      ],
      "metadata": {
        "id": "pJeOVO-pJRV4"
      },
      "id": "pJeOVO-pJRV4",
      "execution_count": 79,
      "outputs": []
    },
    {
      "cell_type": "code",
      "source": [
        "plt.plot(f, abs(power))\n",
        "plt.show()"
      ],
      "metadata": {
        "colab": {
          "base_uri": "https://localhost:8080/",
          "height": 267
        },
        "id": "GmSlC5dmJVep",
        "outputId": "181072a8-cf5f-4c9f-e2fd-92fd7a157960"
      },
      "id": "GmSlC5dmJVep",
      "execution_count": 80,
      "outputs": [
        {
          "output_type": "display_data",
          "data": {
            "text/plain": [
              "<Figure size 432x288 with 1 Axes>"
            ],
            "image/png": "[encoded data removed]"
          },
          "metadata": {
            "needs_background": "light"
          }
        }
      ]
    },
    {
      "cell_type": "code",
      "execution_count": 81,
      "id": "09b0705a",
      "metadata": {
        "id": "09b0705a",
        "colab": {
          "base_uri": "https://localhost:8080/",
          "height": 283
        },
        "outputId": "efda156b-9f67-4628-fc65-6610b32a23fe"
      },
      "outputs": [
        {
          "output_type": "execute_result",
          "data": {
            "text/plain": [
              "[<matplotlib.lines.Line2D at 0x7f0038470990>]"
            ]
          },
          "metadata": {},
          "execution_count": 81
        },
        {
          "output_type": "display_data",
          "data": {
            "text/plain": [
              "<Figure size 432x288 with 1 Axes>"
            ],
            "image/png": "[encoded data removed]"
          },
          "metadata": {
            "needs_background": "light"
          }
        }
      ],
      "source": [
        "y = data[0].to_numpy()**2\n",
        "yf = rfft(y)\n",
        "xf = rfftfreq(len(data[0]))\n",
        "plt.plot(xf, np.abs(yf))"
      ]
    },
    {
      "cell_type": "markdown",
      "id": "e535676a",
      "metadata": {
        "id": "e535676a"
      },
      "source": [
        "# Q5: Real world example (Bonous question)\n",
        "\n",
        "The two point correlation function is like autocorrelation but for multi-dimensional data. Here instead of \"lags\" we use distances.\n",
        "\n",
        "The file `cmb_camb_N1024_PS12.npy` is part of the CMB temperature map, you can read it directly using `np.load` function.\n",
        "\n",
        "Calculate the two point correlation for the CMB map, plot it, and then calculate the power spectrum and plot it too.\n",
        "\n",
        "P.S. the provided data is 1024$\\times$1024, it needs too much computational power to calculate correlation for every point. You may use only a fraction of data points, if they are chosen randomly, the result would be the same. Also for the distances, you do not need to cover the whole length of the image."
      ]
    },
    {
      "cell_type": "code",
      "execution_count": 83,
      "id": "1609d819",
      "metadata": {
        "id": "1609d819",
        "outputId": "f064fb6a-0882-4fec-99c8-f127fdd3c7c4",
        "colab": {
          "base_uri": "https://localhost:8080/"
        }
      },
      "outputs": [
        {
          "output_type": "execute_result",
          "data": {
            "text/plain": [
              "array([[-58.86565019, -52.00479425, -45.52710632, ..., -81.6929155 ,\n",
              "        -73.78002855, -66.13692367],\n",
              "       [-55.94739134, -49.27693447, -43.07373188, ..., -78.91851077,\n",
              "        -70.82681261, -63.13741826],\n",
              "       [-54.47494619, -48.02817536, -42.09378046, ..., -77.28168017,\n",
              "        -69.1433192 , -61.51249752],\n",
              "       ...,\n",
              "       [-75.58483339, -68.70942337, -61.74952149, ..., -95.43718643,\n",
              "        -89.00184571, -82.36334943],\n",
              "       [-68.92469854, -61.93094363, -55.0374856 , ..., -90.22468918,\n",
              "        -83.139877  , -76.01144799],\n",
              "       [-63.24349284, -56.26327424, -49.5423045 , ..., -85.53139564,\n",
              "        -77.95155842, -70.48945155]])"
            ]
          },
          "metadata": {},
          "execution_count": 83
        }
      ],
      "source": [
        "CMB = np.load('/content/cmb_camb_N1024_PS12.npy')\n",
        "CMB"
      ]
    },
    {
      "cell_type": "code",
      "execution_count": null,
      "id": "07adc3ef",
      "metadata": {
        "id": "07adc3ef"
      },
      "outputs": [],
      "source": [
        "# Your answers here"
      ]
    }
  ],
  "metadata": {
    "kernelspec": {
      "display_name": "Python 3.9.5 64-bit",
      "language": "python",
      "name": "python39564bit2ac12f2adc2c4da097ebd7138b514b17"
    },
    "language_info": {
      "codemirror_mode": {
        "name": "ipython",
        "version": 3
      },
      "file_extension": ".py",
      "mimetype": "text/x-python",
      "name": "python",
      "nbconvert_exporter": "python",
      "pygments_lexer": "ipython3",
      "version": "3.10.4"
    },
    "colab": {
      "name": "set_08.ipynb",
      "provenance": [],
      "collapsed_sections": []
    }
  },
  "nbformat": 4,
  "nbformat_minor": 5
}